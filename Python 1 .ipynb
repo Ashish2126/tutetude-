{
 "cells": [
  {
   "cell_type": "code",
   "execution_count": 1,
   "id": "e38a5982-fc2f-4d57-8127-d49ee2a7ca3f",
   "metadata": {},
   "outputs": [
    {
     "name": "stdin",
     "output_type": "stream",
     "text": [
      "enter a number: 6\n"
     ]
    },
    {
     "name": "stdout",
     "output_type": "stream",
     "text": [
      "6 is an even number.\n"
     ]
    }
   ],
   "source": [
    "n=int(input('enter a number:'))\n",
    "if (n%2 ==0) :\n",
    "    print(n,\"is an even number.\")\n",
    "else:\n",
    "     print(n,\"is an odd number\")\n"
   ]
  },
  {
   "cell_type": "code",
   "execution_count": 2,
   "id": "d8465050-a85c-4834-ace0-23861bfc7f4b",
   "metadata": {},
   "outputs": [
    {
     "name": "stdout",
     "output_type": "stream",
     "text": [
      "the sum of integer from 1 to 50 is:  1275\n"
     ]
    }
   ],
   "source": [
    "n= 0\n",
    "for i in range(1,51):\n",
    "    n += i\n",
    "print(\"the sum of integer from 1 to 50 is: \",n)"
   ]
  },
  {
   "cell_type": "code",
   "execution_count": null,
   "id": "e7e99078-a941-46a0-98f2-319f1beca6c8",
   "metadata": {},
   "outputs": [],
   "source": []
  }
 ],
 "metadata": {
  "kernelspec": {
   "display_name": "Python 3 (ipykernel)",
   "language": "python",
   "name": "python3"
  },
  "language_info": {
   "codemirror_mode": {
    "name": "ipython",
    "version": 3
   },
   "file_extension": ".py",
   "mimetype": "text/x-python",
   "name": "python",
   "nbconvert_exporter": "python",
   "pygments_lexer": "ipython3",
   "version": "3.13.5"
  }
 },
 "nbformat": 4,
 "nbformat_minor": 5
}
